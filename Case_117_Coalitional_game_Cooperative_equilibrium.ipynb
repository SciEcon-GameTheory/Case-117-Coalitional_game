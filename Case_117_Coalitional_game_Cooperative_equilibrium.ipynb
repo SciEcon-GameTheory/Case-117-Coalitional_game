{
  "nbformat": 4,
  "nbformat_minor": 2,
  "metadata": {
    "colab": {
      "name": "Case-117-Coalitional game-Cooperative equilibrium.ipynb",
      "provenance": [],
      "collapsed_sections": []
    },
    "kernelspec": {
      "name": "python3",
      "display_name": "Python 3"
    },
    "language_info": {
      "name": "python"
    }
  },
  "cells": [
    {
      "cell_type": "markdown",
      "source": [
        "<font size = 6> 117 - Bitcoin Mining Pools: A Cooperative Game Theoretic Analysis </font>"
      ],
      "metadata": {
        "id": "iN68PntWkTcJ"
      }
    },
    {
      "cell_type": "markdown",
      "source": [
        "<font face = Times size=4>\n",
        "\n",
        "***Backgrounds:***\n",
        "\n",
        "***1. Bitcoion and the Mining Process:***\n",
        "\n",
        "Bitcoin is a decentralized crypto-currency. Two kinds of agents participate in the Bitcoin network: *clients*, who trade in the currency, and miners, who validate monetary transactions. The entire transaction history of Bitcoin is stored on a shared data structure called the block chain. Every block in the block chain contains a set of the recent transactions it approves. In addition, its header contains, among other meta-data fields, a pointer to its predecessor in the block chain, a compressed representation of its transaction set, and a \"nonce\" field which acts as a proof of work. The blocks thus form a tree, rooted at the \"genesis block\" which was created at Bitcoin's inception, with each block being a child of the block it references in its\n",
        "header.\n",
        "\n",
        "The process of adding a new block to the block chain is called \"mining a block\". For a block to be considered valid, the value of the hash of its header must be lower than a target threshold $t .$ The nonce field can then be utilized to modify the hash's result to meet $t .$ The only known method to find a suitable nonce is by random search.\n",
        "\n",
        "A miner is an agent that continuously tries to mine blocks. The more hashes a miner can compute per time unit, the more likely she is to mine the next block. When a miner mines a valid block, she publishes it to the Bitcoin network; if the block is eventually extended and is part of the **longest chain**, its creator is rewarded with bitcoins.\n",
        "\n",
        "\n",
        "\n",
        "</font>"
      ],
      "metadata": {
        "id": "gmdZPczOleVK"
      }
    },
    {
      "cell_type": "markdown",
      "source": [
        "<div align=\"center\">\n",
        "<a href=\"https://sm.ms/image/VcEyjz4Cx2ouhGn\" target=\"_blank\"><img src=\"https://i.loli.net/2021/08/03/VcEyjz4Cx2ouhGn.png\" ></a>\n",
        "</div>"
      ],
      "metadata": {
        "id": "OiE51_Pzk8hO"
      }
    },
    {
      "cell_type": "markdown",
      "source": [
        "<font face = Times size=4>\n",
        "\n",
        "***2. Cooperative Games:***\n",
        "\n",
        "A (transferable utility) Coalitional Game is composed of a set of players $I,|I|=n$, and a characteristic function $v: 2^{I} \\rightarrow \\Re$ specifying the monetary value that any coalition (a subset of the agents working as a team) can achieve when cooperating. Intuitively, $v(C)$ is the total utility that the members in $C \\subseteq I$ can gain by working together. The characteristic function describes the total payoff of every coalition, but it does not prescribe a way of distributing these payoffs among the agents in the coalition. Such a division is called an imputation. An imputation is a vector $x \\in \\Re^{|I|}$ that divides the gains of the grand coalition I among all the agents, where $\\sum_{i \\in I} x_{i}=v(I)$ and $x_{i} \\geq 0$ is the payoff of player $i$. The most prominent solution concept that describes stability in coalitional games is the core $ .$ An imputation $x$ is blocked by some coalition $B \\subseteq I$ if the members of $B$ can abandon the grand coalition and achieve a higher utility, by working as a group of their own, than the share currently allocated to them; that is, $v(B)>\\sum_{i \\in B} x_{i} .$ An imputation $x$ is in the core if it is not blocked by any coalition, i.e., for any coalition $C \\subset I$ we have that $x(C) \\geq v(C)$ (where $\\left.x(C)=\\sum_{i \\in C} x_{i}\\right)$.\n",
        "\n",
        "\n",
        "\n",
        "</font>"
      ],
      "metadata": {
        "id": "uhOsgRzGkPF6"
      }
    },
    {
      "cell_type": "markdown",
      "source": [
        "<font face = Times size=4>\n",
        "\n",
        "***3. Cooperative Games with Coalition Structures:***\n",
        "\n",
        "In many domains several teams may form, creating a structure of coalitions. Cooperative games with Coalition Structures have been used by artificial intelligence researchers to model agent collaboration and team formation $[21,39,40$, 42]. A coalition structure is a partition of the agent set $I$ into disjoint sets called teams. That is, $\\mathcal{S}=\\left\\{C_{1}, \\ldots, C_{m}\\right\\}$ is a coalition structure over $I$ iff $\\bigcup_{i=1}^{m} C_{i}=I$ and for all $i \\neq j$, $C_{i} \\cap C_{j}=\\emptyset .$ We denote by $\\mathcal{C} \\mathcal{S}(I)$ the set of all possible coalition structures over $I .$ In some settings, the value of a coalition depends on the structure of the other coalitions. A cooperative game with coalition structures is defined by a partition function [33] that takes as input a coalition structure $\\mathcal{S} \\in \\mathcal{C} \\mathcal{S}(I)$ and a coalition $C \\in \\mathcal{S}$ and outputs a value $v(\\mathcal{S}, C)=v_{\\mathcal{S}}(C)$, i.e., it determines the utility of a coalition $C$ under the partition of other agents, as given by $\\mathcal{S}$. Similar to transferable utility coalitional games, agents need to divide the gains of each team in the coalition structure. An imputation associated with $\\mathcal{S}$ is a vector $x \\in \\Re^{|I|}$ such that for all $i \\in I, x_{i} \\geq 0$, and for every $C \\in \\mathcal{S}$ it holds that $x(C)=v_{\\mathcal{S}}(C)$. An imputation associated with $\\mathcal{S}$ is in the CS-core of $\\mathcal{S}$ if for every $C \\subset I$ we have $x(C) \\geq v_{\\mathcal{S}_{C}}(C)$, where $\\mathcal{S}_{C}=\\{C\\} \\cup\\{\\{D \\backslash C\\}: D \\in \\mathcal{S}, D \\backslash C \\neq \\emptyset\\} .$ Intuitively,\n",
        "an imputation is in the CS-core of $\\mathcal{S}$ if there is no agent subset that can gain by leaving their teams and forming a new team.\n",
        "\n",
        "\n",
        "\n",
        "</font>"
      ],
      "metadata": {
        "id": "mif1bW-EkZtR"
      }
    },
    {
      "cell_type": "markdown",
      "source": [
        "<font face = Times size=4>\n",
        "\n",
        "***A Network of Miners:***\n",
        "\n",
        "We model the mining pool interactions as a miner network. A miner network is a tuple $\\Gamma=\\langle\\mathcal{M}, \\mathcal{S}, \\mathcal{P}, D, d, \\lambda\\rangle$,\n",
        "where $\\mathcal{M}=\\{1, \\ldots, n\\}$ is the set of miners; $\\mathcal{S}$ is the partition of some of the miners into pools (where each element in $\\mathcal{S}$ is a team of miners constituting a single pool $) ; \\mathcal{P}=\\left\\{p_{1}, \\ldots, p_{n}\\right\\}$ is the distribution of the computational power among the miners - if $p_{i}$ is agent $i$ 's fraction of computational power then $\\forall i \\in \\mathcal{M}, p_{i} \\in[0,1]$, and $\\sum_{i \\in \\mathcal{M}} p_{i}=1 ; D>0$ is\n",
        "the delay in communication, in seconds, between machines of different pools (delay between pools); $d>0$ is the delay between machines in the same pool (delay within a pool); and $\\lambda$ is the expected number of blocks mined by the network, per second. We assume that every miner $i \\in \\mathcal{M}$ mines blocks according to a Poisson process with parameter $p_{i} \\lambda$. A miner that does not participate in a pool is referred to as a solo miner. In our model, miners in a pool communicate only through the pool manager. Hence, if miner $i$ in pool $C_{j}$ mined block $B$ at time $t$, then at time $t+d$ her pool manager knows $B$ was mined. At this point, if $B$ extends the longest chain then the pool manager publishes it to the rest of the network, and updates its participants about the header of the next block to mine. Upon which, at time $t+2 d$ the other miners in pool $C_{j}$ will learn of $B$, and at time $t+d+D$ the other pool managers and solo miners will learn of $B$. An illustration of a network with 9 miners and 3 pools is given in Figure 2 .\n",
        "\n",
        "We follow the notations of Sompolinsky and Zohar [43]; for a given miner network, $\\Gamma$, we define $\\beta=\\beta(\\Gamma)$ to be the rate of block addition to the longest chain per second.\n",
        "\n",
        "For every miner $i$, we denote by $\\gamma_{i}=\\gamma(\\Gamma)_{i} \\in[0,1]$ the probability that a block belonging to the longest chain was mined by miner $i .$ For every pool $C_{j} \\in \\mathcal{S}$ we define $\\gamma_{C_{j}}=$ $\\sum_{i \\in C_{j}} \\gamma_{i} .$ As miners are only rewarded for blocks in the longest chain, a miner $i$ has an incentive to increase $\\gamma_{i}$.\n",
        "\n",
        "\n",
        "\n",
        "</font>"
      ],
      "metadata": {
        "id": "ge4lWHRXmxmJ"
      }
    },
    {
      "cell_type": "markdown",
      "source": [
        "<div align=\"center\">\n",
        "<a href=\"https://sm.ms/image/aJG94UmgLrnycu3\" target=\"_blank\"><img src=\"https://i.loli.net/2021/08/03/aJG94UmgLrnycu3.png\" ></a>\n",
        "</div>"
      ],
      "metadata": {
        "id": "MrkhopmkkN3u"
      }
    },
    {
      "cell_type": "markdown",
      "source": [
        "<font face = Times size=4>\n",
        "\n",
        "***Mining as a Cooperative Game:***\n",
        "\n",
        "In order to apply the result of the previous section to the Bitcoin world, we need to investigate the behavior of the partition function $v$. Unfortunately, the topology of the Bitcoin miner network is unknown and keeps changing. To avoid the intractable analysis of the general case, where any topology is possible, we deviate from the coalition structure setup, and model instead the miner and pool interactions as a transferable utility coalitional game. In these games, the value of a coalition depends solely on the members of that coalition, with no dependence on the other players. To adapt this model to the Bitcoin world, where inter-pool effects are possible, we allow only one coalition to form, and fix the topology of its environment as one which consists of solo miners only.\n",
        "\n",
        "We then investigate the conditions on the network under which the core of the game is empty. The constriction to the simple notion of core means that only the stability of the grand coalition is taken into consideration. The game's network is denoted by $\\mathcal{C}=\\langle\\mathcal{M}, \\mathcal{P}, D, d, \\beta\\rangle$,\n",
        "as above. For $|\\mathcal{M}|>2$ we make the following simplifying assumptions. First, we assume that all miners hold the same computational power: $p_{i}=\\frac{1}{n}$ where $n=|\\mathcal{M}| .$ Secondly, we assume the following form of $v$ : for any $C \\subset \\mathcal{M}$ with $|\\mathcal{M}|=$ $1, v(C)=\\frac{1}{n} ; v(\\mathcal{M})=1 .$ In order to represent $C$ 's value for the general case, we approximate its share of the longest chain, using Equation 2, and assign this approximation of $\\gamma_{C}$ to $v(C)$.\n",
        "\n",
        "We apply Theorem 4 to a hypothetical two solo miner network, $\\Gamma_{2}$ whose parameters as set as follows. Denote $\\alpha_{C}=\\frac{|C| \\lambda}{n+2 d|C| \\lambda}$, and $\\alpha_{S}=\\frac{n-|C|}{n} \\lambda \\frac{n+d \\lambda}{n+(n-|C|) d \\lambda} .$ The first\n",
        "miner in $\\Gamma_{2}$ (representing the pool $C$ in the original network) holds a fraction $p_{1}=\\frac{\\alpha_{C}}{\\alpha_{C}+\\alpha_{S}}$ of the computational power, and the second one (corresponding to the rest of the miners) holds $p_{2}=1-p_{2}$. The free parameter $\\lambda$ is set so as to satisfy $\\beta\\left(\\Gamma_{2}\\right)=\\beta$, where $\\beta\\left(\\Gamma_{2}\\right)$ is given by Equation 1. Finally, to complete the description of $\\Gamma_{2}$, we set $\\lambda_{2}=\\alpha_{C}+\\alpha_{S}$\n",
        "\n",
        "The motivation for this setup is that it applies a divide and conquer method in order to estimate $\\gamma_{C} .$ We first split the miner network into two sub-networks, the first consisting of the pool, and the second consisting of the solo miners. The growth rate of the longest chain, in the sub-network of the pool, is $\\alpha_{C}$, as shown in Lemma $2 .$ The sub-network representing the solo miners is a symmetric network with $m=|\\mathcal{M} \\backslash C|$ miners, and its longest chain's growth rate can be approximated by $\\lambda \\frac{m+D \\lambda}{m+m D \\lambda}$ (see Section 7 for further discussion). Putting $m=n-|C|$ we arrive at $\\alpha_{S}$. Combining these two sub-networks, and approximating their operations as following Poisson processes (with parameters $\\alpha_{C}$ and $\\alpha_{S}$ respectively), we can extract from Equation 2 an estimate for $\\gamma_{C} .$ Simulation results presented in the next section suggest that this approximation can be done safely, as it underestimates the pool's actual value, and the instability is reached even under weaker conditions.\n",
        "\n",
        "\n",
        "</font>"
      ],
      "metadata": {
        "id": "cszh8swGnb68"
      }
    },
    {
      "cell_type": "markdown",
      "source": [
        "<font face = Times size=4>\n",
        "\n",
        "***Theorems and Lemmas used:***\n",
        "\n",
        "LEMMA $2 .$ Let $\\Gamma=\\langle\\mathcal{M},\\{\\mathcal{M}\\}, \\mathcal{P}, D, d, \\lambda\\rangle$, be a miner\n",
        "network with one pool and no solo miners. Then $\\beta(\\Gamma)=$ $\\frac{\\lambda}{1+2 d \\lambda}$\n",
        "\n",
        "THEOREM 4. Let $\\Gamma$ be a miner network with two solo miners. Then\n",
        "$$\n",
        "\\gamma(\\Gamma)_{1}=\\frac{p_{1}^{2} e^{2 D \\lambda p_{1}}-p_{1} p_{2}\\left(2 \\frac{e^{2 D \\lambda}-1}{e^{2 D \\lambda p_{1}}+e^{2 D \\lambda p_{2}-2}}-1\\right)}{p_{1}^{2} e^{2 D \\lambda p_{1}}-p_{2}^{2} e^{2 D \\lambda p_{2}}}\n",
        "$$\n",
        "\n",
        "LEMMA $11 .$ Let $\\Gamma=\\langle\\{1,2\\}, \\emptyset,\\{p, 1-p\\}, D, \\lambda\\rangle$ be a miner\n",
        "network. The function $f_{\\frac{2}{3}}: \\Re^{+} \\rightarrow\\left(\\frac{1}{2}, \\frac{2}{3}\\right)$, defined by $f_{\\frac{2}{3}}(D \\lambda)=$\n",
        "$p \\Longleftrightarrow \\gamma(\\Gamma)_{1}=\\frac{2}{3}$, is monotonically decreasing.\n",
        "\n",
        "THEOREM $12 .$ Let $\\mathcal{C}=\\langle\\mathcal{M}, \\mathcal{P}, D, d, \\beta\\rangle$ be a Miner Game with $|\\mathcal{M}|=3$ miners. If $d \\leq \\frac{2-3 f_{\\frac{2}{3}}(D \\beta)}{4 \\beta f_{\\frac{2}{3}}(D \\beta)}$, then the core of $\\mathcal{C}$\n",
        "is empty.\n",
        "\n",
        "THEOREM 13. Let $\\mathcal{C}$ be a Miner Game with $|\\mathcal{M}|=n>3$ miners. If $d \\leq \\frac{D(n-3)}{2(n+1)(1+D \\beta)}$ then the core of $\\mathcal{C}$ is empty.\n",
        "\n",
        "</font>"
      ],
      "metadata": {
        "id": "mtEDuKeJrL81"
      }
    },
    {
      "cell_type": "markdown",
      "source": [
        "<font face = Times size=4>\n",
        "\n",
        "***Simulations:***\n",
        "\n",
        "We ran an experiment simulating mining in an artificial network. In the experiment we fixed the number of miners, the structure of the pools, $\\lambda$, and the delay inside and outside the pools. \n",
        "\n",
        "In our experiment we simulated miner networks with $n=3,10,20$ miners, and one pool $C$ with $|C|=m=$ $\\left\\lceil\\frac{n}{2}\\right\\rceil$ miners. We fixed $\\beta=\\frac{1}{2}$, and $\\lambda$ was set accordingly; $d$ was given the highest possible values, as implied by Theorems $12(n=3)$ and $13(n=10,20) .$ We examined the pools' share of the longest chain, and compared it to $v(C)$, the value we used to estimate $\\gamma_{C} .$\n",
        "\n",
        "Both $\\gamma_{C}$ and $v(C)$ are presented in Figure $5 .$ In practice, $v(C)$ was found to be a lower bound of $\\gamma_{C} .$ **Recall that in order to prove the emptiness of the core we showed that $v(C)>\\frac{m}{n} .$** Thus when using the exact value of $\\gamma_{C}$ instead of the approximation, the core remains empty (under the same constraints on $d$ ). This suggests that our results apply more generally, even to networks that our model fails to describe accurately.\n",
        "\n",
        "</font>"
      ],
      "metadata": {
        "id": "sW1Lyg5CsxHB"
      }
    }
  ]
}